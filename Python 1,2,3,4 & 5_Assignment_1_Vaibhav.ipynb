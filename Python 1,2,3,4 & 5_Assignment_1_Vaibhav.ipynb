{
 "cells": [
  {
   "cell_type": "markdown",
   "metadata": {},
   "source": [
    "# Python 1,2,3,4 & 5: Assignment 1 "
   ]
  },
  {
   "cell_type": "markdown",
   "metadata": {},
   "source": [
    "## 2.1. Problem Statement: PYTHON 1"
   ]
  },
  {
   "cell_type": "code",
   "execution_count": 5,
   "metadata": {},
   "outputs": [
    {
     "name": "stdout",
     "output_type": "stream",
     "text": [
      "2002,2009,2016,2023,2037,2044,2051,2058,2072,2079,2086,2093,2107,2114,2121,2128,2142,2149,2156,2163,2177,2184,2191,2198,2212,2219,2226,2233,2247,2254,2261,2268,2282,2289,2296,2303,2317,2324,2331,2338,2352,2359,2366,2373,2387,2394,2401,2408,2422,2429,2436,2443,2457,2464,2471,2478,2492,2499,2506,2513,2527,2534,2541,2548,2562,2569,2576,2583,2597,2604,2611,2618,2632,2639,2646,2653,2667,2674,2681,2688,2702,2709,2716,2723,2737,2744,2751,2758,2772,2779,2786,2793,2807,2814,2821,2828,2842,2849,2856,2863,2877,2884,2891,2898,2912,2919,2926,2933,2947,2954,2961,2968,2982,2989,2996,3003,3017,3024,3031,3038,3052,3059,3066,3073,3087,3094,3101,3108,3122,3129,3136,3143,3157,3164,3171,3178,3192,3199\n"
     ]
    }
   ],
   "source": [
    "#2\n",
    "num_list = []\n",
    "for number in range (2000, 3200):\n",
    "    if number%7 == 0 and number%5 != 0:\n",
    "        num_list.append(str(number))\n",
    "print (\",\".join(num_list))"
   ]
  },
  {
   "cell_type": "code",
   "execution_count": 7,
   "metadata": {},
   "outputs": [
    {
     "name": "stdout",
     "output_type": "stream",
     "text": [
      "enter your first name: Vaibhav\n",
      "enter your last name: Rai\n",
      "iaR vahbiaV\n"
     ]
    }
   ],
   "source": [
    "#3\n",
    "first_name = input('enter your first name: ')\n",
    "last_name = input('enter your last name: ')\n",
    "required_string = (first_name + \" \" +last_name)\n",
    "print (required_string[::-1])"
   ]
  },
  {
   "cell_type": "code",
   "execution_count": 8,
   "metadata": {},
   "outputs": [
    {
     "name": "stdout",
     "output_type": "stream",
     "text": [
      "904.7786842338603\n"
     ]
    }
   ],
   "source": [
    "#4\n",
    "import math\n",
    "dia = 12\n",
    "radius = dia/2\n",
    "Volume = 4/3 * math.pi * radius **3\n",
    "print (Volume)"
   ]
  },
  {
   "cell_type": "markdown",
   "metadata": {},
   "source": [
    "## 2.2. Problem Statement: PYTHON 2"
   ]
  },
  {
   "cell_type": "code",
   "execution_count": 10,
   "metadata": {},
   "outputs": [
    {
     "name": "stdout",
     "output_type": "stream",
     "text": [
      "Enter comma seperated numbers: 1, 2, 45, 67,789,965,234\n",
      "['1', ' 2', ' 45', ' 67', '789', '965', '234']\n"
     ]
    }
   ],
   "source": [
    "#1\n",
    "input_num = input('Enter comma seperated numbers: ')\n",
    "out_list = input_num.split(',')\n",
    "print (out_list)"
   ]
  },
  {
   "cell_type": "code",
   "execution_count": 11,
   "metadata": {},
   "outputs": [
    {
     "name": "stdout",
     "output_type": "stream",
     "text": [
      "\n",
      "*\n",
      "**\n",
      "***\n",
      "****\n",
      "******\n",
      "*****\n",
      "****\n",
      "***\n",
      "**\n",
      "*\n"
     ]
    }
   ],
   "source": [
    "#2\n",
    "patern = '*'\n",
    "for i in range (5):\n",
    "    for num in range(i):\n",
    "        print (patern, end = \"\")\n",
    "    print (end ='\\n')\n",
    "for i in range (6, 0, -1):\n",
    "    for num in range(i):\n",
    "        print (patern, end=\"\")\n",
    "    print (end ='\\n')"
   ]
  },
  {
   "cell_type": "code",
   "execution_count": 12,
   "metadata": {},
   "outputs": [
    {
     "name": "stdout",
     "output_type": "stream",
     "text": [
      "Enter the string to be reversed: AcadGild\n",
      "dliGdacA\n"
     ]
    }
   ],
   "source": [
    "#3\n",
    "input_string = input(\"Enter the string to be reversed: \")\n",
    "out_string = input_string[::-1]\n",
    "print (out_string)"
   ]
  },
  {
   "cell_type": "code",
   "execution_count": 13,
   "metadata": {},
   "outputs": [
    {
     "name": "stdout",
     "output_type": "stream",
     "text": [
      "WE, THE PEOPLE OF INDIA, \n",
      "\thaving solemnly resolved to constitute India into a SOVEREIGN, !\n",
      "\t\tSOCIALIST, SECULAR, DEMOCRATIC \n",
      "\t\t REPUBLIC and to secure to all its citizens "
     ]
    }
   ],
   "source": [
    "#4\n",
    "input_para = '''WE, THE PEOPLE OF INDIA, having solemnly resolved to constitute India into a SOVEREIGN, \n",
    "SOCIALIST, SECULAR, DEMOCRATIC REPUBLIC and to secure to all its citizens'''\n",
    "sample_out = '''WE, THE PEOPLE OF INDIA,\n",
    "                    having solemnly resolved to constitute India into a SOVEREIGN, !\n",
    "                        SOCIALIST, SECULAR, DEMOCRATIC\n",
    "                         REPUBLIC and to secure to all its citizens'''\n",
    "input_para = input_para.split(\" \")\n",
    "for string in input_para:\n",
    "    if ('\\n' in string):\n",
    "        string = (string.strip('\\n'))\n",
    "    \n",
    "    print (string, end = ' ')\n",
    "    if ('INDIA,' in string):\n",
    "        print (end ='\\n\\t')\n",
    "    elif('SOVEREIGN,' in string):\n",
    "        print (end = '!\\n\\t\\t')\n",
    "    elif('DEMOCRATIC' in string):\n",
    "        print (end = ('\\n\\t\\t '))"
   ]
  },
  {
   "cell_type": "markdown",
   "metadata": {},
   "source": [
    "## 2.3. Problem Statement: PYTHON 3"
   ]
  },
  {
   "cell_type": "code",
   "execution_count": 30,
   "metadata": {},
   "outputs": [],
   "source": [
    "#1.1\n",
    "def myreduce(function, iterable, initial_val = None):\n",
    "    seq = iter(iterable)\n",
    "    if initial_val == None:\n",
    "        red_item = next(seq)\n",
    "    else:\n",
    "        red_item = initial_val\n",
    "    for item in seq:\n",
    "        red_item = function(red_item, item)\n",
    "    return red_item"
   ]
  },
  {
   "cell_type": "code",
   "execution_count": 28,
   "metadata": {},
   "outputs": [],
   "source": [
    "def multiply(x,y):\n",
    "    return x*y"
   ]
  },
  {
   "cell_type": "code",
   "execution_count": 29,
   "metadata": {},
   "outputs": [
    {
     "data": {
      "text/plain": [
       "24"
      ]
     },
     "execution_count": 29,
     "metadata": {},
     "output_type": "execute_result"
    }
   ],
   "source": [
    "samp_lst = [2,3,4]\n",
    "myreduce(multiply, samp_lst)"
   ]
  },
  {
   "cell_type": "code",
   "execution_count": 24,
   "metadata": {},
   "outputs": [],
   "source": [
    "#1.2\n",
    "def myfilter(function, iterable):\n",
    "    result_list = []\n",
    "    for item in iterable:\n",
    "        if function(item):\n",
    "            result_list.append(item)\n",
    "    return result_list"
   ]
  },
  {
   "cell_type": "code",
   "execution_count": 25,
   "metadata": {},
   "outputs": [],
   "source": [
    "def even_chk(num):\n",
    "    if num%2 == 0:\n",
    "        return True"
   ]
  },
  {
   "cell_type": "code",
   "execution_count": 26,
   "metadata": {},
   "outputs": [
    {
     "data": {
      "text/plain": [
       "[0, 2, 4, 6, 8, 10, 12, 14, 16, 18]"
      ]
     },
     "execution_count": 26,
     "metadata": {},
     "output_type": "execute_result"
    }
   ],
   "source": [
    "sample_list = range(20)\n",
    "list(myfilter(even_chk, sample_list))"
   ]
  },
  {
   "cell_type": "code",
   "execution_count": 32,
   "metadata": {},
   "outputs": [
    {
     "name": "stdout",
     "output_type": "stream",
     "text": [
      "['A', 'C', 'A', 'D', 'G', 'I', 'L', 'D']\n"
     ]
    }
   ],
   "source": [
    "#2\n",
    "string = \"ACADGILD\"\n",
    "result = [i for i in string]\n",
    "print (result)"
   ]
  },
  {
   "cell_type": "code",
   "execution_count": 33,
   "metadata": {},
   "outputs": [
    {
     "name": "stdout",
     "output_type": "stream",
     "text": [
      "['x', 'xx', 'xxx', 'xxxx', 'y', 'yy', 'yyy', 'yyyy', 'z', 'zz', 'zzz', 'zzzz']\n"
     ]
    }
   ],
   "source": [
    "in_string = ['x','y','z']\n",
    "re_list = []\n",
    "re_list = [(i*j) for i in in_string for j in range(1,5)]\n",
    "print (re_list)"
   ]
  },
  {
   "cell_type": "code",
   "execution_count": 34,
   "metadata": {},
   "outputs": [
    {
     "name": "stdout",
     "output_type": "stream",
     "text": [
      "['x', 'y', 'z', 'xx', 'yy', 'zz', 'xxx', 'yyy', 'zzz', 'xxxx', 'yyyy', 'zzzz']\n"
     ]
    }
   ],
   "source": [
    "in_string = ['x','y','z']\n",
    "re_list = []\n",
    "re_list =[(i*j) for j in range(1,5) for i in in_string]\n",
    "print (re_list)"
   ]
  },
  {
   "cell_type": "code",
   "execution_count": 37,
   "metadata": {},
   "outputs": [
    {
     "name": "stdout",
     "output_type": "stream",
     "text": [
      "[[2], [3], [4], [3], [4], [5], [4], [5], [6]] [[2, 3, 4], [3, 4, 5], [4, 5, 6], [5, 6, 7]]\n"
     ]
    }
   ],
   "source": [
    "inp_lst = [3,4,5,6]\n",
    "op_lst1 = []\n",
    "op_lst2 = []\n",
    "op_lst1 = [[j] for i in inp_lst for j in range(i-1, i+2) if i <= 5]\n",
    "op_lst2 = [[i-1, i, i+1] for i in inp_lst]\n",
    "print (op_lst1, op_lst2)"
   ]
  },
  {
   "cell_type": "code",
   "execution_count": 36,
   "metadata": {},
   "outputs": [
    {
     "name": "stdout",
     "output_type": "stream",
     "text": [
      "[(1, 1), (2, 1), (3, 1), (1, 2), (2, 2), (3, 2), (1, 3), (2, 3), (3, 3)]\n"
     ]
    }
   ],
   "source": [
    "in_lst = [1,2,3]\n",
    "out_lst = [(j,i) for i in in_lst for j in in_lst]\n",
    "print (out_lst)"
   ]
  },
  {
   "cell_type": "code",
   "execution_count": 22,
   "metadata": {},
   "outputs": [],
   "source": [
    "#3\n",
    "def longestWord(list_of_words):\n",
    "    max_len = 0\n",
    "    longest_word = ''\n",
    "    for word in list_of_words:\n",
    "        if len(word) > max_len:\n",
    "            longest_word = word\n",
    "            max_len = len(word)\n",
    "    return longest_word"
   ]
  },
  {
   "cell_type": "code",
   "execution_count": 31,
   "metadata": {},
   "outputs": [
    {
     "data": {
      "text/plain": [
       "'longestWord'"
      ]
     },
     "execution_count": 31,
     "metadata": {},
     "output_type": "execute_result"
    }
   ],
   "source": [
    "list_words = ['Implement', 'a', 'function', 'longestWord', 'that', 'takes', 'a', 'list', 'of', 'words',\n",
    "              'and', 'returns', 'the', 'longest', 'one']\n",
    "longestWord(list_words)"
   ]
  },
  {
   "cell_type": "markdown",
   "metadata": {},
   "source": [
    "## 2.4. Problem Statement: PYTHON 4"
   ]
  },
  {
   "cell_type": "code",
   "execution_count": 14,
   "metadata": {},
   "outputs": [],
   "source": [
    "#1.1\n",
    "class Triangle:\n",
    "    def get_length(self):\n",
    "        self.side1 = input(\"Please enter the length of side 1: \")\n",
    "        self.side2 = input(\"Please enter the length of side 2: \")\n",
    "        self.side3 = input(\"Please enter the length of side 3: \")\n",
    "        return [self.side1, self.side2, self.side3]\n",
    "    \n",
    "class Area(Triangle):\n",
    "    def area_func(self):\n",
    "        length_list = self.get_length()\n",
    "        a = int(length_list[0])\n",
    "        b = int(length_list[1])\n",
    "        c = int(length_list[2])\n",
    "        s = (a+b+c/2)\n",
    "        area = (s*(s-a)*(s-b)*(s-c)) ** 0.5\n",
    "        return area"
   ]
  },
  {
   "cell_type": "code",
   "execution_count": 15,
   "metadata": {},
   "outputs": [
    {
     "name": "stdout",
     "output_type": "stream",
     "text": [
      "Please enter the length of side 1: 10\n",
      "Please enter the length of side 2: 10\n",
      "Please enter the length of side 3: 15\n"
     ]
    },
    {
     "data": {
      "text/plain": [
       "324.4586838104353"
      ]
     },
     "execution_count": 15,
     "metadata": {},
     "output_type": "execute_result"
    }
   ],
   "source": [
    "cal_area = Area()\n",
    "cal_area.area_func()"
   ]
  },
  {
   "cell_type": "code",
   "execution_count": 16,
   "metadata": {},
   "outputs": [],
   "source": [
    "#1.2\n",
    "def filter_long_words(word_list, desired_length):\n",
    "    new_word_list = []\n",
    "    for word in word_list:\n",
    "        word = word.strip(' ')\n",
    "        if len(word) > desired_length:\n",
    "            new_word_list.append(word)\n",
    "    return (new_word_list)"
   ]
  },
  {
   "cell_type": "code",
   "execution_count": 17,
   "metadata": {},
   "outputs": [
    {
     "name": "stdout",
     "output_type": "stream",
     "text": [
      "Enter some words with comma separeated.\n",
      "Press enter at the end.\n",
      "Write, a, function, filter_long_words, that, takes, a, list\n",
      "Enter desired word length: 3\n"
     ]
    },
    {
     "data": {
      "text/plain": [
       "['Write', 'function', 'filter_long_words', 'that', 'takes', 'list']"
      ]
     },
     "execution_count": 17,
     "metadata": {},
     "output_type": "execute_result"
    }
   ],
   "source": [
    "word_list = input('Enter some words with comma separeated.\\nPress enter at the end.\\n')\n",
    "desired_length = int(input('Enter desired word length: '))\n",
    "word_list = word_list.split(',')\n",
    "filter_long_words(word_list, desired_length)"
   ]
  },
  {
   "cell_type": "code",
   "execution_count": 18,
   "metadata": {},
   "outputs": [],
   "source": [
    "#2.1\n",
    "word_list = ['ab', 'cde', 'erty']\n",
    "def map_word_length(word):\n",
    "    return (len(word))"
   ]
  },
  {
   "cell_type": "code",
   "execution_count": 19,
   "metadata": {},
   "outputs": [
    {
     "data": {
      "text/plain": [
       "[2, 3, 4]"
      ]
     },
     "execution_count": 19,
     "metadata": {},
     "output_type": "execute_result"
    }
   ],
   "source": [
    "word_len_list = list(map(map_word_length, word_list))\n",
    "word_len_list"
   ]
  },
  {
   "cell_type": "code",
   "execution_count": 20,
   "metadata": {},
   "outputs": [
    {
     "name": "stdout",
     "output_type": "stream",
     "text": [
      "PLease enter a character: u\n",
      "True\n"
     ]
    }
   ],
   "source": [
    "#2.2\n",
    "def check_if_vowel(character):\n",
    "    if character in ['a', 'e', 'i', 'o', 'u']:\n",
    "        return True\n",
    "    else:\n",
    "        return False\n",
    "\n",
    "chara = input(\"PLease enter a character: \")\n",
    "if len(chara) == 1:\n",
    "    print (check_if_vowel(chara))\n",
    "else:\n",
    "    print (\"Please enter single character/letter\")"
   ]
  },
  {
   "cell_type": "markdown",
   "metadata": {},
   "source": [
    "## 2.5. Problem Statement: PYTHON 5"
   ]
  },
  {
   "cell_type": "code",
   "execution_count": 2,
   "metadata": {},
   "outputs": [],
   "source": [
    "#1\n",
    "def div_func(num, divisor):\n",
    "    try:\n",
    "        div = num/divisor\n",
    "        print (\"divison successful\")\n",
    "    except Exception as e:\n",
    "        print (\"Exception raised: \", e)\n",
    "        print (\"divison unsuccessful\")"
   ]
  },
  {
   "cell_type": "code",
   "execution_count": 3,
   "metadata": {},
   "outputs": [
    {
     "name": "stdout",
     "output_type": "stream",
     "text": [
      "Exception raised:  division by zero\n",
      "divison unsuccessful\n"
     ]
    }
   ],
   "source": [
    "div_func(5, 0)"
   ]
  },
  {
   "cell_type": "code",
   "execution_count": 4,
   "metadata": {},
   "outputs": [
    {
     "name": "stdout",
     "output_type": "stream",
     "text": [
      "Americans play Baseball\n",
      "Americans play Cricket\n",
      "Americans watch Baseball\n",
      "Americans watch Cricket\n",
      "Indians play Baseball\n",
      "Indians play Cricket\n",
      "Indians watch Baseball\n",
      "Indians watch Cricket\n"
     ]
    }
   ],
   "source": [
    "#2\n",
    "subjects = [\"Americans\",\"Indians\"]\n",
    "verbs = [\"play\",\"watch\"]\n",
    "objects = [\"Baseball\",\"Cricket\"]\n",
    "\n",
    "for item1 in subjects:\n",
    "    for item2 in verbs:\n",
    "        for item3 in objects:\n",
    "            print (item1 + ' ' + item2 + ' ' + item3)"
   ]
  }
 ],
 "metadata": {
  "kernelspec": {
   "display_name": "Python 3",
   "language": "python",
   "name": "python3"
  },
  "language_info": {
   "codemirror_mode": {
    "name": "ipython",
    "version": 3
   },
   "file_extension": ".py",
   "mimetype": "text/x-python",
   "name": "python",
   "nbconvert_exporter": "python",
   "pygments_lexer": "ipython3",
   "version": "3.7.1"
  }
 },
 "nbformat": 4,
 "nbformat_minor": 2
}
