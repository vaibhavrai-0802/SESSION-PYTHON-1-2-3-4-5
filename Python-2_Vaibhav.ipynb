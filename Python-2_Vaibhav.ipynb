{
 "cells": [
  {
   "cell_type": "code",
   "execution_count": 7,
   "metadata": {},
   "outputs": [
    {
     "name": "stdout",
     "output_type": "stream",
     "text": [
      "Enter comma seperated numbers: 1, 2, 45, 67,789,965,234\n",
      "['1', ' 2', ' 45', ' 67', '789', '965', '234']\n"
     ]
    }
   ],
   "source": [
    "input_num = input('Enter comma seperated numbers: ')\n",
    "out_list = input_num.split(',')\n",
    "print (out_list)"
   ]
  },
  {
   "cell_type": "code",
   "execution_count": 1,
   "metadata": {},
   "outputs": [
    {
     "name": "stdout",
     "output_type": "stream",
     "text": [
      "\n",
      "*\n",
      "**\n",
      "***\n",
      "****\n",
      "******\n",
      "*****\n",
      "****\n",
      "***\n",
      "**\n",
      "*\n"
     ]
    }
   ],
   "source": [
    "patern = '*'\n",
    "for i in range (5):\n",
    "    for num in range(i):\n",
    "        print (patern, end = \"\")\n",
    "    print (end ='\\n')\n",
    "for i in range (6, 0, -1):\n",
    "    for num in range(i):\n",
    "        print (patern, end=\"\")\n",
    "    print (end ='\\n')"
   ]
  },
  {
   "cell_type": "code",
   "execution_count": 3,
   "metadata": {},
   "outputs": [
    {
     "name": "stdout",
     "output_type": "stream",
     "text": [
      "Enter the string to be reversed: AcadGild\n",
      "dliGdacA\n"
     ]
    }
   ],
   "source": [
    "input_string = input(\"Enter the string to be reversed: \")\n",
    "out_string = input_string[::-1]\n",
    "print (out_string)"
   ]
  },
  {
   "cell_type": "code",
   "execution_count": 4,
   "metadata": {},
   "outputs": [
    {
     "name": "stdout",
     "output_type": "stream",
     "text": [
      "WE, THE PEOPLE OF INDIA, \n",
      "\thaving solemnly resolved to constitute India into a SOVEREIGN, !\n",
      "\t\tSOCIALIST, SECULAR, DEMOCRATIC \n",
      "\t\t REPUBLIC and to secure to all its citizens "
     ]
    }
   ],
   "source": [
    "input_para = '''WE, THE PEOPLE OF INDIA, having solemnly resolved to constitute India into a SOVEREIGN, \n",
    "SOCIALIST, SECULAR, DEMOCRATIC REPUBLIC and to secure to all its citizens'''\n",
    "sample_out = '''WE, THE PEOPLE OF INDIA,\n",
    "                    having solemnly resolved to constitute India into a SOVEREIGN, !\n",
    "                        SOCIALIST, SECULAR, DEMOCRATIC\n",
    "                         REPUBLIC and to secure to all its citizens'''\n",
    "input_para = input_para.split(\" \")\n",
    "for string in input_para:\n",
    "    if ('\\n' in string):\n",
    "        string = (string.strip('\\n'))\n",
    "    \n",
    "    print (string, end = ' ')\n",
    "    if ('INDIA,' in string):\n",
    "        print (end ='\\n\\t')\n",
    "    elif('SOVEREIGN,' in string):\n",
    "        print (end = '!\\n\\t\\t')\n",
    "    elif('DEMOCRATIC' in string):\n",
    "        print (end = ('\\n\\t\\t '))\n",
    "        "
   ]
  }
 ],
 "metadata": {
  "kernelspec": {
   "display_name": "Python 3",
   "language": "python",
   "name": "python3"
  },
  "language_info": {
   "codemirror_mode": {
    "name": "ipython",
    "version": 3
   },
   "file_extension": ".py",
   "mimetype": "text/x-python",
   "name": "python",
   "nbconvert_exporter": "python",
   "pygments_lexer": "ipython3",
   "version": "3.7.1"
  }
 },
 "nbformat": 4,
 "nbformat_minor": 2
}
